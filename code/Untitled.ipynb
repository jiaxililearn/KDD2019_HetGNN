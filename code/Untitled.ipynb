{
 "cells": [
  {
   "cell_type": "code",
   "execution_count": 7,
   "metadata": {},
   "outputs": [
    {
     "name": "stdout",
     "output_type": "stream",
     "text": [
      "The autoreload extension is already loaded. To reload it, use:\n",
      "  %reload_ext autoreload\n"
     ]
    }
   ],
   "source": [
    "%load_ext autoreload\n",
    "%autoreload 2"
   ]
  },
  {
   "cell_type": "code",
   "execution_count": 8,
   "metadata": {},
   "outputs": [],
   "source": [
    "import os\n",
    "\n",
    "import data_generator\n",
    "from args import read_args\n"
   ]
  },
  {
   "cell_type": "code",
   "execution_count": 25,
   "metadata": {},
   "outputs": [
    {
     "data": {
      "text/plain": [
       "Namespace(A_n=28646, P_n=21044, V_n=18, batch_s=20000, checkpoint='', cuda=0, data_path='../data/custom_data/', embed_d=128, in_f_d=128, lr=0.001, mini_batch_s=200, model_path='../model_save/', random_seed=10, save_model_freq=2, train_iter_n=50, train_test_label=0, walk_L=30, walk_n=10, window=5)"
      ]
     },
     "execution_count": 25,
     "metadata": {},
     "output_type": "execute_result"
    }
   ],
   "source": [
    "args = read_args()\n",
    "args"
   ]
  },
  {
   "cell_type": "code",
   "execution_count": 26,
   "metadata": {
    "scrolled": true
   },
   "outputs": [
    {
     "name": "stdout",
     "output_type": "stream",
     "text": [
      "Reading relation files ..\n",
      "Reading initial node embedding ..\n",
      "Reading initial node embedding .. Done\n",
      "Comput a_a embedding ..\n",
      "3708.5\n",
      "Comput a_b embedding ..\n",
      "1400.0\n",
      "Comput a_c embedding ..\n",
      "10500.483660844458\n",
      "Comput a_d embedding ..\n",
      "13242.0\n",
      "Comput a_e embedding ..\n",
      "6496.79293562956\n",
      "Comput a_f embedding ..\n",
      "10072.0\n",
      "Comput a_g embedding ..\n",
      "14454.0\n",
      "Comput a_h embedding ..\n",
      "11046.0\n",
      "Comput b_a embedding ..\n",
      "2200.0\n",
      "Comput b_b embedding ..\n",
      "3565.0\n",
      "Comput b_c embedding ..\n",
      "161483.60201106966\n",
      "Comput b_d embedding ..\n",
      "31314.0\n",
      "Comput b_e embedding ..\n",
      "21463.200581017136\n",
      "Comput b_h embedding ..\n",
      "900.0\n"
     ]
    }
   ],
   "source": [
    "input_data = data_generator.input_data(args=args)"
   ]
  },
  {
   "cell_type": "code",
   "execution_count": 57,
   "metadata": {},
   "outputs": [],
   "source": [
    "import json\n",
    "with open('../data/custom_data/node_mapping.json') as fin:\n",
    "    nodem = json.loads(fin.read())\n",
    "\n",
    "tnodem = {v:k for k,v in nodem.items()} "
   ]
  },
  {
   "cell_type": "code",
   "execution_count": 58,
   "metadata": {},
   "outputs": [
    {
     "data": {
      "text/plain": [
       "'2138'"
      ]
     },
     "execution_count": 58,
     "metadata": {},
     "output_type": "execute_result"
    }
   ],
   "source": [
    "tnodem['a2']\n",
    "\n",
    "# nodem['2']"
   ]
  },
  {
   "cell_type": "code",
   "execution_count": 66,
   "metadata": {
    "scrolled": true
   },
   "outputs": [
    {
     "name": "stdout",
     "output_type": "stream",
     "text": [
      "0: []\n",
      "1: []\n",
      "2: ['3309', '3223', '3530', '3304', '3296', '2369', '3573', '3549', '2451', '2357', '3294', '3535', '2836', '2836', '3518', '2335', '3581', '3292', '2299', '3222', '3544', '3276', '2295', '3518', '2830', '3548']\n",
      "3: ['0']\n",
      "4: ['446', '889', '591', '1007', '821', '623', '166', '194', '650', '545', '122', '931', '891', '767', '647', '968', '188', '946', '396', '34', '504', '282', '695', '486', '698', '654', '322', '940', '704', '853', '106', '1036', '938', '1006', '141', '54', '551', '623', '236', '877', '876', '1007', '532', '930', '130', '317', '678', '253', '326', '358', '804', '329', '1000', '953', '937', '606', '720', '147', '702', '494', '186', '301', '323', '537', '307', '844', '860', '725', '36', '697', '104', '265', '630']\n",
      "5: []\n",
      "6: []\n",
      "7: []\n"
     ]
    }
   ],
   "source": [
    "for i in range(len(input_data.a_neigh_list_train)):\n",
    "    print(f'{i}: {input_data.a_neigh_list_train[i][6]}')"
   ]
  },
  {
   "cell_type": "code",
   "execution_count": 51,
   "metadata": {},
   "outputs": [],
   "source": [
    "import torch"
   ]
  },
  {
   "cell_type": "code",
   "execution_count": 54,
   "metadata": {},
   "outputs": [
    {
     "data": {
      "text/plain": [
       "tensor([[0.2503, 2.2822, 1.1362]])"
      ]
     },
     "execution_count": 54,
     "metadata": {},
     "output_type": "execute_result"
    }
   ],
   "source": [
    "x = torch.randn(1, 3)\n",
    "x"
   ]
  },
  {
   "cell_type": "code",
   "execution_count": 56,
   "metadata": {},
   "outputs": [
    {
     "data": {
      "text/plain": [
       "tensor([[0.2503, 2.2822, 1.1362],\n",
       "        [0.2503, 2.2822, 1.1362],\n",
       "        [0.2503, 2.2822, 1.1362],\n",
       "        [0.2503, 2.2822, 1.1362],\n",
       "        [0.2503, 2.2822, 1.1362],\n",
       "        [0.2503, 2.2822, 1.1362],\n",
       "        [0.2503, 2.2822, 1.1362],\n",
       "        [0.2503, 2.2822, 1.1362],\n",
       "        [0.2503, 2.2822, 1.1362],\n",
       "        [0.2503, 2.2822, 1.1362],\n",
       "        [0.2503, 2.2822, 1.1362],\n",
       "        [0.2503, 2.2822, 1.1362],\n",
       "        [0.2503, 2.2822, 1.1362],\n",
       "        [0.2503, 2.2822, 1.1362],\n",
       "        [0.2503, 2.2822, 1.1362],\n",
       "        [0.2503, 2.2822, 1.1362],\n",
       "        [0.2503, 2.2822, 1.1362],\n",
       "        [0.2503, 2.2822, 1.1362],\n",
       "        [0.2503, 2.2822, 1.1362],\n",
       "        [0.2503, 2.2822, 1.1362],\n",
       "        [0.2503, 2.2822, 1.1362],\n",
       "        [0.2503, 2.2822, 1.1362],\n",
       "        [0.2503, 2.2822, 1.1362],\n",
       "        [0.2503, 2.2822, 1.1362],\n",
       "        [0.2503, 2.2822, 1.1362],\n",
       "        [0.2503, 2.2822, 1.1362],\n",
       "        [0.2503, 2.2822, 1.1362],\n",
       "        [0.2503, 2.2822, 1.1362],\n",
       "        [0.2503, 2.2822, 1.1362],\n",
       "        [0.2503, 2.2822, 1.1362],\n",
       "        [0.2503, 2.2822, 1.1362],\n",
       "        [0.2503, 2.2822, 1.1362]])"
      ]
     },
     "execution_count": 56,
     "metadata": {},
     "output_type": "execute_result"
    }
   ],
   "source": [
    "x.expand(32,-1)"
   ]
  },
  {
   "cell_type": "code",
   "execution_count": null,
   "metadata": {},
   "outputs": [],
   "source": []
  }
 ],
 "metadata": {
  "kernelspec": {
   "display_name": "Python 3",
   "language": "python",
   "name": "python3"
  },
  "language_info": {
   "codemirror_mode": {
    "name": "ipython",
    "version": 3
   },
   "file_extension": ".py",
   "mimetype": "text/x-python",
   "name": "python",
   "nbconvert_exporter": "python",
   "pygments_lexer": "ipython3",
   "version": "3.7.7"
  }
 },
 "nbformat": 4,
 "nbformat_minor": 4
}
